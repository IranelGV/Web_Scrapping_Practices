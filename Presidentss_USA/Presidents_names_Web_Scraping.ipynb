{
 "cells": [
  {
   "cell_type": "code",
   "execution_count": 20,
   "id": "c6674b03",
   "metadata": {},
   "outputs": [],
   "source": [
    "import requests\n",
    "from bs4 import BeautifulSoup\n",
    "import pandas as pd"
   ]
  },
  {
   "cell_type": "code",
   "execution_count": 21,
   "id": "8bfb467d",
   "metadata": {},
   "outputs": [],
   "source": [
    "url= \"https://en.wikipedia.org/wiki/List_of_presidents_of_the_United_States\"\n",
    "\n",
    "response = requests.get(url)\n",
    "soup =  BeautifulSoup(response.text)"
   ]
  },
  {
   "cell_type": "code",
   "execution_count": 22,
   "id": "06901a61",
   "metadata": {},
   "outputs": [
    {
     "data": {
      "text/plain": [
       "200"
      ]
     },
     "execution_count": 22,
     "metadata": {},
     "output_type": "execute_result"
    }
   ],
   "source": [
    "response.status_code"
   ]
  },
  {
   "cell_type": "code",
   "execution_count": 23,
   "id": "2394ceb4",
   "metadata": {},
   "outputs": [
    {
     "data": {
      "text/plain": [
       "[<a href=\"/wiki/George_Washington\" title=\"George Washington\">George Washington</a>,\n",
       " <a href=\"/wiki/John_Adams\" title=\"John Adams\">John Adams</a>,\n",
       " <a href=\"/wiki/Thomas_Jefferson\" title=\"Thomas Jefferson\">Thomas Jefferson</a>,\n",
       " <a href=\"/wiki/James_Madison\" title=\"James Madison\">James Madison</a>,\n",
       " <a href=\"/wiki/James_Monroe\" title=\"James Monroe\">James Monroe</a>,\n",
       " <a href=\"/wiki/John_Quincy_Adams\" title=\"John Quincy Adams\">John Quincy Adams</a>,\n",
       " <a href=\"/wiki/Andrew_Jackson\" title=\"Andrew Jackson\">Andrew Jackson</a>,\n",
       " <a href=\"/wiki/Martin_Van_Buren\" title=\"Martin Van Buren\">Martin Van Buren</a>,\n",
       " <a href=\"/wiki/William_Henry_Harrison\" title=\"William Henry Harrison\">William Henry Harrison</a>,\n",
       " <a href=\"/wiki/John_Tyler\" title=\"John Tyler\">John Tyler</a>,\n",
       " <a href=\"/wiki/James_K._Polk\" title=\"James K. Polk\">James K. Polk</a>,\n",
       " <a href=\"/wiki/Zachary_Taylor\" title=\"Zachary Taylor\">Zachary Taylor</a>,\n",
       " <a href=\"/wiki/Millard_Fillmore\" title=\"Millard Fillmore\">Millard Fillmore</a>,\n",
       " <a href=\"/wiki/Franklin_Pierce\" title=\"Franklin Pierce\">Franklin Pierce</a>,\n",
       " <a href=\"/wiki/James_Buchanan\" title=\"James Buchanan\">James Buchanan</a>,\n",
       " <a href=\"/wiki/Abraham_Lincoln\" title=\"Abraham Lincoln\">Abraham Lincoln</a>,\n",
       " <a href=\"/wiki/Andrew_Johnson\" title=\"Andrew Johnson\">Andrew Johnson</a>,\n",
       " <a href=\"/wiki/Ulysses_S._Grant\" title=\"Ulysses S. Grant\">Ulysses S. Grant</a>,\n",
       " <a href=\"/wiki/Rutherford_B._Hayes\" title=\"Rutherford B. Hayes\">Rutherford B. Hayes</a>,\n",
       " <a href=\"/wiki/James_A._Garfield\" title=\"James A. Garfield\">James A. Garfield</a>,\n",
       " <a href=\"/wiki/Chester_A._Arthur\" title=\"Chester A. Arthur\">Chester A. Arthur</a>,\n",
       " <a href=\"/wiki/Grover_Cleveland\" title=\"Grover Cleveland\">Grover Cleveland</a>,\n",
       " <a href=\"/wiki/Benjamin_Harrison\" title=\"Benjamin Harrison\">Benjamin Harrison</a>,\n",
       " <a href=\"/wiki/Grover_Cleveland\" title=\"Grover Cleveland\">Grover Cleveland</a>,\n",
       " <a href=\"/wiki/William_McKinley\" title=\"William McKinley\">William McKinley</a>,\n",
       " <a href=\"/wiki/Theodore_Roosevelt\" title=\"Theodore Roosevelt\">Theodore Roosevelt</a>,\n",
       " <a href=\"/wiki/William_Howard_Taft\" title=\"William Howard Taft\">William Howard Taft</a>,\n",
       " <a href=\"/wiki/Woodrow_Wilson\" title=\"Woodrow Wilson\">Woodrow Wilson</a>,\n",
       " <a href=\"/wiki/Warren_G._Harding\" title=\"Warren G. Harding\">Warren G. Harding</a>,\n",
       " <a href=\"/wiki/Calvin_Coolidge\" title=\"Calvin Coolidge\">Calvin Coolidge</a>,\n",
       " <a href=\"/wiki/Herbert_Hoover\" title=\"Herbert Hoover\">Herbert Hoover</a>,\n",
       " <a href=\"/wiki/Franklin_D._Roosevelt\" title=\"Franklin D. Roosevelt\">Franklin D. Roosevelt</a>,\n",
       " <a href=\"/wiki/Harry_S._Truman\" title=\"Harry S. Truman\">Harry S. Truman</a>,\n",
       " <a href=\"/wiki/Dwight_D._Eisenhower\" title=\"Dwight D. Eisenhower\">Dwight D. Eisenhower</a>,\n",
       " <a href=\"/wiki/John_F._Kennedy\" title=\"John F. Kennedy\">John F. Kennedy</a>,\n",
       " <a href=\"/wiki/Lyndon_B._Johnson\" title=\"Lyndon B. Johnson\">Lyndon B. Johnson</a>,\n",
       " <a href=\"/wiki/Richard_Nixon\" title=\"Richard Nixon\">Richard Nixon</a>,\n",
       " <a href=\"/wiki/Gerald_Ford\" title=\"Gerald Ford\">Gerald Ford</a>,\n",
       " <a href=\"/wiki/Jimmy_Carter\" title=\"Jimmy Carter\">Jimmy Carter</a>,\n",
       " <a href=\"/wiki/Ronald_Reagan\" title=\"Ronald Reagan\">Ronald Reagan</a>,\n",
       " <a href=\"/wiki/George_H._W._Bush\" title=\"George H. W. Bush\">George H. W. Bush</a>,\n",
       " <a href=\"/wiki/Bill_Clinton\" title=\"Bill Clinton\">Bill Clinton</a>,\n",
       " <a href=\"/wiki/George_W._Bush\" title=\"George W. Bush\">George W. Bush</a>,\n",
       " <a href=\"/wiki/Barack_Obama\" title=\"Barack Obama\">Barack Obama</a>,\n",
       " <a href=\"/wiki/Donald_Trump\" title=\"Donald Trump\">Donald Trump</a>,\n",
       " <a href=\"/wiki/Joe_Biden\" title=\"Joe Biden\">Joe Biden</a>]"
      ]
     },
     "execution_count": 23,
     "metadata": {},
     "output_type": "execute_result"
    }
   ],
   "source": [
    "soup.select(\"td b a\")"
   ]
  },
  {
   "cell_type": "code",
   "execution_count": 24,
   "id": "4c26d046",
   "metadata": {},
   "outputs": [
    {
     "data": {
      "text/plain": [
       "<a href=\"/wiki/George_Washington\" title=\"George Washington\">George Washington</a>"
      ]
     },
     "execution_count": 24,
     "metadata": {},
     "output_type": "execute_result"
    }
   ],
   "source": [
    "soup.select(\"td b a\")[0]\n",
    "\n",
    "# td b a we separate by spaces because there are different elements"
   ]
  },
  {
   "cell_type": "code",
   "execution_count": 25,
   "id": "00e62bf5",
   "metadata": {},
   "outputs": [
    {
     "data": {
      "text/plain": [
       "'/wiki/George_Washington'"
      ]
     },
     "execution_count": 25,
     "metadata": {},
     "output_type": "execute_result"
    }
   ],
   "source": [
    "soup.select(\"td b a\")[0][\"href\"]"
   ]
  },
  {
   "cell_type": "code",
   "execution_count": 26,
   "id": "c258556a",
   "metadata": {},
   "outputs": [],
   "source": [
    "#soup.select(get_text(\"td b a\"))"
   ]
  },
  {
   "cell_type": "code",
   "execution_count": 29,
   "id": "ebe817c2",
   "metadata": {},
   "outputs": [
    {
     "data": {
      "text/plain": [
       "['/wiki/George_Washington',\n",
       " '/wiki/John_Adams',\n",
       " '/wiki/Thomas_Jefferson',\n",
       " '/wiki/James_Madison',\n",
       " '/wiki/James_Monroe',\n",
       " '/wiki/John_Quincy_Adams',\n",
       " '/wiki/Andrew_Jackson',\n",
       " '/wiki/Martin_Van_Buren',\n",
       " '/wiki/William_Henry_Harrison',\n",
       " '/wiki/John_Tyler',\n",
       " '/wiki/James_K._Polk',\n",
       " '/wiki/Zachary_Taylor',\n",
       " '/wiki/Millard_Fillmore',\n",
       " '/wiki/Franklin_Pierce',\n",
       " '/wiki/James_Buchanan',\n",
       " '/wiki/Abraham_Lincoln',\n",
       " '/wiki/Andrew_Johnson',\n",
       " '/wiki/Ulysses_S._Grant',\n",
       " '/wiki/Rutherford_B._Hayes',\n",
       " '/wiki/James_A._Garfield',\n",
       " '/wiki/Chester_A._Arthur',\n",
       " '/wiki/Grover_Cleveland',\n",
       " '/wiki/Benjamin_Harrison',\n",
       " '/wiki/Grover_Cleveland',\n",
       " '/wiki/William_McKinley',\n",
       " '/wiki/Theodore_Roosevelt',\n",
       " '/wiki/William_Howard_Taft',\n",
       " '/wiki/Woodrow_Wilson',\n",
       " '/wiki/Warren_G._Harding',\n",
       " '/wiki/Calvin_Coolidge',\n",
       " '/wiki/Herbert_Hoover',\n",
       " '/wiki/Franklin_D._Roosevelt',\n",
       " '/wiki/Harry_S._Truman',\n",
       " '/wiki/Dwight_D._Eisenhower',\n",
       " '/wiki/John_F._Kennedy',\n",
       " '/wiki/Lyndon_B._Johnson',\n",
       " '/wiki/Richard_Nixon',\n",
       " '/wiki/Gerald_Ford',\n",
       " '/wiki/Jimmy_Carter',\n",
       " '/wiki/Ronald_Reagan',\n",
       " '/wiki/George_H._W._Bush',\n",
       " '/wiki/Bill_Clinton',\n",
       " '/wiki/George_W._Bush',\n",
       " '/wiki/Barack_Obama',\n",
       " '/wiki/Donald_Trump',\n",
       " '/wiki/Joe_Biden']"
      ]
     },
     "execution_count": 29,
     "metadata": {},
     "output_type": "execute_result"
    }
   ],
   "source": [
    "\n",
    "presidents_href = []\n",
    "\n",
    "for item in soup.select(\"td b a\"):\n",
    "    \n",
    "    presidents_href.append(item[\"href\"])\n",
    "    \n",
    "presidents_href"
   ]
  },
  {
   "cell_type": "code",
   "execution_count": 32,
   "id": "79413f8e",
   "metadata": {},
   "outputs": [
    {
     "data": {
      "text/plain": [
       "<Response [404]>"
      ]
     },
     "execution_count": 32,
     "metadata": {},
     "output_type": "execute_result"
    }
   ],
   "source": [
    "url_2 = \"https://en.wikipedia.org\"\n",
    "\n",
    "url_george = url + presidents_href[0]\n",
    "\n",
    "requests.get(url_george)"
   ]
  },
  {
   "cell_type": "markdown",
   "id": "539b511e",
   "metadata": {},
   "source": [
    "Create a DataFrame of US Presidents with columns:\n",
    "\n",
    "- Name of Presidents\n",
    "- Political Party\n",
    "- Birth info\n",
    "- Number of children\n",
    "- Occupations"
   ]
  },
  {
   "cell_type": "code",
   "execution_count": 31,
   "id": "6d9c4162",
   "metadata": {},
   "outputs": [
    {
     "ename": "TypeError",
     "evalue": "string indices must be integers",
     "output_type": "error",
     "traceback": [
      "\u001b[1;31m---------------------------------------------------------------------------\u001b[0m",
      "\u001b[1;31mTypeError\u001b[0m                                 Traceback (most recent call last)",
      "\u001b[1;32m~\\AppData\\Local\\Temp\\ipykernel_30348\\1202486378.py\u001b[0m in \u001b[0;36m<module>\u001b[1;34m\u001b[0m\n\u001b[0;32m      5\u001b[0m \u001b[1;33m\u001b[0m\u001b[0m\n\u001b[0;32m      6\u001b[0m \u001b[1;32mfor\u001b[0m \u001b[0mprez\u001b[0m \u001b[1;32min\u001b[0m \u001b[0mpresidents_href\u001b[0m\u001b[1;33m:\u001b[0m\u001b[1;33m\u001b[0m\u001b[1;33m\u001b[0m\u001b[0m\n\u001b[1;32m----> 7\u001b[1;33m     \u001b[0murl\u001b[0m\u001b[1;33m=\u001b[0m\u001b[1;34m\"https://en.wikipedia.org\"\u001b[0m \u001b[1;33m+\u001b[0m \u001b[0mprez\u001b[0m\u001b[1;33m[\u001b[0m\u001b[1;34m\"href\"\u001b[0m\u001b[1;33m]\u001b[0m\u001b[1;33m\u001b[0m\u001b[1;33m\u001b[0m\u001b[0m\n\u001b[0m\u001b[0;32m      8\u001b[0m     \u001b[0mrequests\u001b[0m\u001b[1;33m.\u001b[0m\u001b[0mget\u001b[0m\u001b[1;33m(\u001b[0m\u001b[0murl\u001b[0m\u001b[1;33m)\u001b[0m\u001b[1;33m\u001b[0m\u001b[1;33m\u001b[0m\u001b[0m\n\u001b[0;32m      9\u001b[0m \u001b[1;33m\u001b[0m\u001b[0m\n",
      "\u001b[1;31mTypeError\u001b[0m: string indices must be integers"
     ]
    }
   ],
   "source": [
    "name = []\n",
    "political_part = []\n",
    "number_of_c = []\n",
    "occupation = []\n",
    "\n",
    "for prez in presidents_href:\n",
    "    url=\"https://en.wikipedia.org\" + prez[\"href\"]\n",
    "    requests.get(url)\n",
    "    \n",
    "    \n",
    "prez_dict = {\"name\": name, \"party\": political_party, \"number of children\": number_of_c, \"Ocuppation\": occupation}"
   ]
  },
  {
   "cell_type": "code",
   "execution_count": null,
   "id": "1b44fbf7",
   "metadata": {},
   "outputs": [],
   "source": [
    "party = []\n",
    "\n",
    "for item in soup.find(\"th\", string = \"Political party\").parent.find(\"a\")\n",
    "\n",
    "     party.append.(soup.find((\"th\")))"
   ]
  },
  {
   "cell_type": "code",
   "execution_count": 33,
   "id": "3f546c42",
   "metadata": {},
   "outputs": [
    {
     "ename": "NameError",
     "evalue": "name 'president_soups' is not defined",
     "output_type": "error",
     "traceback": [
      "\u001b[1;31m---------------------------------------------------------------------------\u001b[0m",
      "\u001b[1;31mNameError\u001b[0m                                 Traceback (most recent call last)",
      "\u001b[1;32m~\\AppData\\Local\\Temp\\ipykernel_30348\\763006576.py\u001b[0m in \u001b[0;36m<module>\u001b[1;34m\u001b[0m\n\u001b[0;32m      1\u001b[0m \u001b[0mchildren\u001b[0m \u001b[1;33m=\u001b[0m \u001b[1;33m[\u001b[0m\u001b[1;33m]\u001b[0m\u001b[1;33m\u001b[0m\u001b[1;33m\u001b[0m\u001b[0m\n\u001b[0;32m      2\u001b[0m \u001b[1;33m\u001b[0m\u001b[0m\n\u001b[1;32m----> 3\u001b[1;33m \u001b[1;32mfor\u001b[0m \u001b[0msoup\u001b[0m \u001b[1;32min\u001b[0m \u001b[0mpresident_soups\u001b[0m\u001b[1;33m:\u001b[0m\u001b[1;33m\u001b[0m\u001b[1;33m\u001b[0m\u001b[0m\n\u001b[0m\u001b[0;32m      4\u001b[0m \u001b[1;33m\u001b[0m\u001b[0m\n\u001b[0;32m      5\u001b[0m     \u001b[1;32mtry\u001b[0m\u001b[1;33m:\u001b[0m\u001b[1;33m\u001b[0m\u001b[1;33m\u001b[0m\u001b[0m\n",
      "\u001b[1;31mNameError\u001b[0m: name 'president_soups' is not defined"
     ]
    }
   ],
   "source": [
    "children = []\n",
    "\n",
    "for soup in president_soups:\n",
    "    \n",
    "    try:\n",
    "        soup.find(\"th\", string = \"Children\").parent.find(\"a\").get_text(strip=True)\n",
    "\n",
    "    except:\n",
    "        children.append(0)\n",
    "        \n",
    "        \n",
    "print(len(children))"
   ]
  },
  {
   "cell_type": "code",
   "execution_count": null,
   "id": "1a33ceeb",
   "metadata": {},
   "outputs": [],
   "source": [
    "occupation = []\n",
    "\n",
    "\n",
    "for soup in president_soups:\n",
    "    \n",
    "    try:\n",
    "        occupation.find(\"th\", string = \"Occupation\").parent.find(\"ul\").get_text(strip=True)\n",
    "\n",
    "    except:\n",
    "        occupation.append(0)\n",
    "        \n",
    "        \n",
    "print(len(children))"
   ]
  },
  {
   "cell_type": "code",
   "execution_count": null,
   "id": "d457744b",
   "metadata": {},
   "outputs": [],
   "source": [
    "for job in   soup.find(\"th\", string = \"Occupation\").parent.select(\"ul\"):\n",
    "    \n",
    "    try:\n",
    "        occupation.append(soup.find(\"th\", string = \"Occupation\").parent.find(\"ul\").get_text(strip=True))\n",
    "    \n",
    "    except:\n",
    "    prez_occ.append(0)\n",
    "    \n",
    "    "
   ]
  },
  {
   "cell_type": "code",
   "execution_count": null,
   "id": "3e1fc2da",
   "metadata": {},
   "outputs": [],
   "source": []
  },
  {
   "cell_type": "code",
   "execution_count": null,
   "id": "c39f2485",
   "metadata": {},
   "outputs": [],
   "source": [
    "for job in soup.find(\"th\")"
   ]
  },
  {
   "cell_type": "code",
   "execution_count": null,
   "id": "37997c3e",
   "metadata": {},
   "outputs": [],
   "source": [
    "\n",
    "occupation = []\n",
    "\n",
    "for soup in president_soups:\n",
    "    \n",
    "    try:\n",
    "        occupation.append(soup.find(\"th\", string = \"Occupation\").parent.find(\"ul\").get_text(strip=True))\n",
    "    \n",
    "    except:\n",
    "         prez_occ.append(0)\n",
    "    \n",
    "print(len(occupation))\n",
    "    "
   ]
  }
 ],
 "metadata": {
  "kernelspec": {
   "display_name": "Python 3 (ipykernel)",
   "language": "python",
   "name": "python3"
  },
  "language_info": {
   "codemirror_mode": {
    "name": "ipython",
    "version": 3
   },
   "file_extension": ".py",
   "mimetype": "text/x-python",
   "name": "python",
   "nbconvert_exporter": "python",
   "pygments_lexer": "ipython3",
   "version": "3.9.13"
  }
 },
 "nbformat": 4,
 "nbformat_minor": 5
}
