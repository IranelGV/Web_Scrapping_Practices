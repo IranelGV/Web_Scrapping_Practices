{
 "cells": [
  {
   "cell_type": "code",
   "execution_count": 19,
   "id": "67e0888c",
   "metadata": {},
   "outputs": [],
   "source": [
    "import requests\n",
    "import pandas as pd\n",
    "from bs4 import BeautifulSoup"
   ]
  },
  {
   "cell_type": "markdown",
   "id": "b46d5d72",
   "metadata": {},
   "source": [
    "  - **Movie Nr**: The number representing the movie’s position in the list.\n",
    "  - **Title**: The title of the movie.\n",
    "  - **Year**: The year the movie was released.\n",
    "  - **Rating**: The IMDb rating of the movie.\n",
    "  - **Runtime (min)**: The duration of the movie in minutes.\n",
    "  - **Genre**: The genre of the movie.\n",
    "  - **Description**: A brief description of the movie.\n",
    "  - **Director**: The director of the movie.\n",
    "  - **Stars**: The main stars of the movie.\n",
    "  - **Votes**: The number of votes the movie received.\n",
    "  - **Gross ($M)**: The gross earnings of the movie in millions of USD."
   ]
  },
  {
   "cell_type": "code",
   "execution_count": 20,
   "id": "d40bd70b",
   "metadata": {},
   "outputs": [],
   "source": [
    "title_type= \"feature\"\n",
    "start_date= \"1990-01-01\"\n",
    "end_date= \"1991-12-31\"\n",
    "user_rating= \"7.5\""
   ]
  },
  {
   "cell_type": "code",
   "execution_count": 47,
   "id": "acaa0237",
   "metadata": {},
   "outputs": [],
   "source": [
    "base_url= \"https://www.imdb.com\"\n",
    "\n",
    "base_headers = {'User-Agent':'Mozilla/5.0 (Windows NT 6.3; Win 64 ; x64) Apple WeKit /537.36(KHTML , like Gecko) Chrome/80.0.3987.162 Safari/537.36'}\n",
    "search = f\"/search/title/?title_type={title_type}&release_date={start_date}-01-01,{end_date}-12-31&user_rating={user_rating},10\"\n",
    "\n",
    "base_response = requests.get(base_url+search, headers= base_headers)\n",
    "soup= BeautifulSoup(base_response.text)\n"
   ]
  },
  {
   "cell_type": "code",
   "execution_count": 98,
   "id": "caf820be",
   "metadata": {},
   "outputs": [],
   "source": [
    "def scrape_imdb(title_type, user_rating, start_date, end_date):\n",
    "    \n",
    "    base_url= \"https://www.imdb.com\"\n",
    "\n",
    "    base_headers = {'User-Agent':'Mozilla/5.0 (Windows NT 6.3; Win 64 ; x64) Apple WeKit /537.36(KHTML , like Gecko) Chrome/80.0.3987.162 Safari/537.36'}\n",
    "    search = f\"/search/title/?title_type={title_type}&release_date={start_date}-01-01,{end_date}-12-31&user_rating={user_rating},10\"\n",
    "\n",
    "    base_response = requests.get(base_url+search, headers= base_headers)\n",
    "    soup= BeautifulSoup(base_response.text)\n",
    "    \n",
    "    # Numbers\n",
    "    numbers = [number.get_text().split(\" \")[0] for number in soup.find_all(\"h3\", class_=\"ipc-title__text\")[:-1]]\n",
    "    \n",
    "    # Titles\n",
    "    titles = [title.get_text() for title in soup.find_all(\"h3\", class_=\"ipc-title__text\")]\n",
    "    titles.pop()\n",
    "    \n",
    "    # Years\n",
    "    years_request = [item.get_text() for item in soup.find_all(\"span\", class_ =\"sc-b189961a-8 kLaxqf dli-title-metadata-item\") ]\n",
    "    years = [item for item in years_request if item.startswith('19')]\n",
    "    \n",
    "    # Ratings\n",
    "    ratings_query = [rating.get_text() for rating in soup.find_all(\"span\", class_= \"ipc-rating-star ipc-rating-star--base ipc-rating-star--imdb ratingGroup--imdb-rating\")]\n",
    "    ratings = [item.split(\"\\xa0\")[0] for item in ratings_query]\n",
    "    \n",
    "    # Stars\n",
    "    stars = [star.get_text() for star in soup.find_all(\"span\", attrs={\"class\": \"ipc-rating-star--voteCount\"})]\n",
    "    stars_split = [(star.split(\"(\")[1])[:-1] for star in stars]\n",
    "    \n",
    "    # Movie Description\n",
    "    movie_description = [description.get_text() for description in soup.find_all(\"div\", class_= \"ipc-html-content-inner-div\")]\n",
    "    \n",
    "    # Movie time\n",
    "    \n",
    "    movie_time_split = [item.split(\"h\") for item in years_request if item.endswith('m')]\n",
    "    movie_time_minutes = [(int(time[0]))*60  +  int(time[1][:-1]) for time in movie_time_split]\n",
    "    movie_time_minutes.append(98)\n",
    "    \n",
    "    \n",
    "    #Data inside other links\n",
    "    \n",
    "    links = [l[\"href\"] for l in soup.find_all(\"a\", class_=\"ipc-title-link-wrapper\")]\n",
    "    \n",
    "    genres = []\n",
    "    directors = []\n",
    "    actors = []\n",
    "\n",
    "    for l in links:\n",
    "            \n",
    "            response = requests.get(base_url+l, headers= base_headers )\n",
    "            soup = BeautifulSoup(response.text)\n",
    "            \n",
    "            # Genres\n",
    "            genres.append([g.get_text() for g in soup.find_all(\"span\", class_=\"ipc-chip__text\") if g.get_text() != 'Back to top'] )\n",
    "             \n",
    "            # Directors\n",
    "            directors.append([director.text.strip() for director in soup.find(\"a\",class_= \"ipc-metadata-list-item__list-content-item ipc-metadata-list-item__list-content-item--link\")]) \n",
    "        \n",
    "            # Actors\n",
    "            actors.append([a.get_text() for a in soup.find_all('a', attrs={\"data-testid\": \"title-cast-item__actor\"})])\n",
    "            \n",
    "    \n",
    "    \n",
    "    movies_df = pd.DataFrame({\"number\":numbers,\"titles\":titles,\"year\":years,\"rating\":ratings,\"duration (min)\": movie_time_minutes,\"genre\":genres,\n",
    "                              \"description\":movie_description,\"directors\":directors,\"actors\":actors})\n",
    "    movies_df.set_index(\"number\", drop=True, inplace=True)\n",
    "    \n",
    "    \n",
    "    return movies_df\n",
    "    "
   ]
  },
  {
   "cell_type": "markdown",
   "id": "0fcca908",
   "metadata": {},
   "source": [
    "# 🥳🥳🥳🥳🥳"
   ]
  },
  {
   "cell_type": "code",
   "execution_count": null,
   "id": "f8258989",
   "metadata": {},
   "outputs": [],
   "source": [
    "movies_IMDB = scrape_imdb(\"feature\", 7.5, 1990, 1992)"
   ]
  },
  {
   "cell_type": "code",
   "execution_count": null,
   "id": "443c7c29",
   "metadata": {},
   "outputs": [],
   "source": []
  },
  {
   "cell_type": "code",
   "execution_count": null,
   "id": "0f773a76",
   "metadata": {},
   "outputs": [],
   "source": []
  },
  {
   "cell_type": "code",
   "execution_count": null,
   "id": "4b3112ea",
   "metadata": {},
   "outputs": [],
   "source": []
  },
  {
   "cell_type": "code",
   "execution_count": null,
   "id": "1b1c41d4",
   "metadata": {},
   "outputs": [],
   "source": []
  }
 ],
 "metadata": {
  "kernelspec": {
   "display_name": "Python 3 (ipykernel)",
   "language": "python",
   "name": "python3"
  },
  "language_info": {
   "codemirror_mode": {
    "name": "ipython",
    "version": 3
   },
   "file_extension": ".py",
   "mimetype": "text/x-python",
   "name": "python",
   "nbconvert_exporter": "python",
   "pygments_lexer": "ipython3",
   "version": "3.9.13"
  }
 },
 "nbformat": 4,
 "nbformat_minor": 5
}
