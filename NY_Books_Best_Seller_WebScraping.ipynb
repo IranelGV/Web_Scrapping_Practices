{
 "cells": [
  {
   "cell_type": "code",
   "execution_count": 4,
   "id": "d501e988",
   "metadata": {},
   "outputs": [],
   "source": [
    "import requests\n",
    "from bs4 import BeautifulSoup\n",
    "import pandas as pd"
   ]
  },
  {
   "cell_type": "code",
   "execution_count": 5,
   "id": "b444532c",
   "metadata": {},
   "outputs": [],
   "source": [
    "url = \"https://www.nytimes.com/books/best-sellers/hardcover-nonfiction/\"\n",
    "response = requests.get(url)\n",
    "soup =  BeautifulSoup(response.text)"
   ]
  },
  {
   "cell_type": "code",
   "execution_count": 12,
   "id": "1b845853",
   "metadata": {},
   "outputs": [],
   "source": [
    "titles = []\n",
    "\n",
    "for title in soup.select(\"h3.css-5pe77f\"):\n",
    "\n",
    "     titles.append(title.get_text())"
   ]
  },
  {
   "cell_type": "code",
   "execution_count": 13,
   "id": "c4ed1e6e",
   "metadata": {},
   "outputs": [
    {
     "data": {
      "text/plain": [
       "['THE WAGER',\n",
       " 'OATH AND HONOR',\n",
       " 'OUTLIVE',\n",
       " 'THE WOMAN IN ME',\n",
       " 'THE KINGDOM, THE POWER, AND THE GLORY',\n",
       " 'FRIENDS, LOVERS, AND THE BIG TERRIBLE THING',\n",
       " 'MADNESS',\n",
       " 'ELON MUSK',\n",
       " 'READ WRITE OWN',\n",
       " 'THE GRIFT',\n",
       " 'THE IN-BETWEEN',\n",
       " 'FIND ME THE VOTES',\n",
       " 'LEGACY',\n",
       " \"I'M GLAD MY MOM DIED\",\n",
       " 'OUR HIDDEN CONVERSATIONS']"
      ]
     },
     "execution_count": 13,
     "metadata": {},
     "output_type": "execute_result"
    }
   ],
   "source": [
    "titles"
   ]
  },
  {
   "cell_type": "code",
   "execution_count": 8,
   "id": "89d1cfeb",
   "metadata": {},
   "outputs": [],
   "source": [
    "authors = []\n",
    "for author in soup.select(\"p.css-hjukut\"):\n",
    "    authors.append(author.get_text())"
   ]
  },
  {
   "cell_type": "code",
   "execution_count": 9,
   "id": "48d478e4",
   "metadata": {},
   "outputs": [
    {
     "data": {
      "text/plain": [
       "['by David Grann',\n",
       " 'by Liz Cheney',\n",
       " 'by Peter Attia with Bill Gifford',\n",
       " 'by Britney Spears',\n",
       " 'by Tim Alberta',\n",
       " 'by Matthew Perry',\n",
       " 'by Antonia Hylton',\n",
       " 'by Walter Isaacson',\n",
       " 'by Chris Dixon',\n",
       " 'by Clay Cane',\n",
       " 'by Hadley Vlahos',\n",
       " 'by Michael Isikoff and Daniel Klaidman',\n",
       " 'by Uché Blackstock',\n",
       " 'by Jennette McCurdy',\n",
       " 'by Michele Norris']"
      ]
     },
     "execution_count": 9,
     "metadata": {},
     "output_type": "execute_result"
    }
   ],
   "source": [
    "authors"
   ]
  },
  {
   "cell_type": "code",
   "execution_count": 29,
   "id": "1458560e",
   "metadata": {},
   "outputs": [],
   "source": [
    "books_description = []\n",
    "\n",
    "\n",
    "#for description in soup.select(\"p.description.c-css-14lubd\"):\n",
    "    \n",
    "\n",
    "#for description in soup.select(\"p.css-14lubd\"):\n",
    "#soup.select(\"p.css-14lubdp\")#\n",
    "\n",
    "for description in soup.select(\"p[itemprop=description].css-14lubdp\"):\n",
    "\n",
    "    \n",
    "    books_description.append(description.get_text())\n",
    "    \n",
    "    "
   ]
  },
  {
   "cell_type": "code",
   "execution_count": 30,
   "id": "17bd0cea",
   "metadata": {},
   "outputs": [
    {
     "data": {
      "text/plain": [
       "['The survivors of a shipwrecked British vessel on a secret mission during an imperial war with Spain have different accounts of events.',\n",
       " 'The former congresswoman from Wyoming recounts how she helped lead the Select Committee to Investigate the Jan. 6. Attack on the United States Capitol.',\n",
       " 'A look at recent scientific research on aging and longevity.',\n",
       " 'The Grammy Award-winning pop star details her personal and professional experiences, including the years she spent under a conservatorship overseen by her father.',\n",
       " 'The author of “American Carnage” looks at divisions within the American evangelical movement.',\n",
       " 'The late actor, known for playing Chandler Bing on “Friends,” shares stories from his childhood and his struggles with sobriety.',\n",
       " 'A Peabody and Emmy award-winning journalist unearths the 93-year-old history of a segregated asylum in Maryland.',\n",
       " 'The author of “The Code Breaker” traces Musk’s life and summarizes his work on electric vehicles, private space exploration and artificial intelligence.',\n",
       " 'A technology entrepreneur describes three eras of the internet and argues in favor of blockchain networks.',\n",
       " 'An overview of Black Republicanism from the time of President Lincoln to the present.',\n",
       " \"A hospice nurse shares some of her most impactful experiences and questions some of society's beliefs around end-of-life care.\",\n",
       " 'An account of former President Trump’s attempt to overturn the 2020 election and a Georgia prosecutor’s decision to indict him and his allies.',\n",
       " 'A Black physician details systemic barriers and inequities that affect Black patients and doctors.',\n",
       " 'The actress and filmmaker describes her eating disorders and difficult relationship with her mother.',\n",
       " 'Stories, essays and photographs exploring race and identity in America.']"
      ]
     },
     "execution_count": 30,
     "metadata": {},
     "output_type": "execute_result"
    }
   ],
   "source": [
    "books_description"
   ]
  },
  {
   "cell_type": "markdown",
   "id": "8b1c94e3",
   "metadata": {},
   "source": [
    "Retrive the description of the book\n",
    "\n",
    "Create the dataframe with 3 columns:\n",
    "    -title\n",
    "    -Author\n",
    "    -description\n",
    "Clean the data with the following steps:\n",
    "\n",
    "-Capitalize the title (lower case + capitalize)\n",
    "-Remove \"by\" from the author"
   ]
  },
  {
   "cell_type": "code",
   "execution_count": 31,
   "id": "e3fa47ca",
   "metadata": {},
   "outputs": [],
   "source": [
    "books_seller = pd.DataFrame({\"Title\": titles, \"Authors\": authors, \"Description\": books_description})"
   ]
  },
  {
   "cell_type": "code",
   "execution_count": 32,
   "id": "f38350e9",
   "metadata": {},
   "outputs": [
    {
     "data": {
      "text/html": [
       "<div>\n",
       "<style scoped>\n",
       "    .dataframe tbody tr th:only-of-type {\n",
       "        vertical-align: middle;\n",
       "    }\n",
       "\n",
       "    .dataframe tbody tr th {\n",
       "        vertical-align: top;\n",
       "    }\n",
       "\n",
       "    .dataframe thead th {\n",
       "        text-align: right;\n",
       "    }\n",
       "</style>\n",
       "<table border=\"1\" class=\"dataframe\">\n",
       "  <thead>\n",
       "    <tr style=\"text-align: right;\">\n",
       "      <th></th>\n",
       "      <th>Title</th>\n",
       "      <th>Authors</th>\n",
       "      <th>Description</th>\n",
       "    </tr>\n",
       "  </thead>\n",
       "  <tbody>\n",
       "    <tr>\n",
       "      <th>0</th>\n",
       "      <td>THE WAGER</td>\n",
       "      <td>by David Grann</td>\n",
       "      <td>The survivors of a shipwrecked British vessel ...</td>\n",
       "    </tr>\n",
       "    <tr>\n",
       "      <th>1</th>\n",
       "      <td>OATH AND HONOR</td>\n",
       "      <td>by Liz Cheney</td>\n",
       "      <td>The former congresswoman from Wyoming recounts...</td>\n",
       "    </tr>\n",
       "    <tr>\n",
       "      <th>2</th>\n",
       "      <td>OUTLIVE</td>\n",
       "      <td>by Peter Attia with Bill Gifford</td>\n",
       "      <td>A look at recent scientific research on aging ...</td>\n",
       "    </tr>\n",
       "    <tr>\n",
       "      <th>3</th>\n",
       "      <td>THE WOMAN IN ME</td>\n",
       "      <td>by Britney Spears</td>\n",
       "      <td>The Grammy Award-winning pop star details her ...</td>\n",
       "    </tr>\n",
       "    <tr>\n",
       "      <th>4</th>\n",
       "      <td>THE KINGDOM, THE POWER, AND THE GLORY</td>\n",
       "      <td>by Tim Alberta</td>\n",
       "      <td>The author of “American Carnage” looks at divi...</td>\n",
       "    </tr>\n",
       "    <tr>\n",
       "      <th>5</th>\n",
       "      <td>FRIENDS, LOVERS, AND THE BIG TERRIBLE THING</td>\n",
       "      <td>by Matthew Perry</td>\n",
       "      <td>The late actor, known for playing Chandler Bin...</td>\n",
       "    </tr>\n",
       "    <tr>\n",
       "      <th>6</th>\n",
       "      <td>MADNESS</td>\n",
       "      <td>by Antonia Hylton</td>\n",
       "      <td>A Peabody and Emmy award-winning journalist un...</td>\n",
       "    </tr>\n",
       "    <tr>\n",
       "      <th>7</th>\n",
       "      <td>ELON MUSK</td>\n",
       "      <td>by Walter Isaacson</td>\n",
       "      <td>The author of “The Code Breaker” traces Musk’s...</td>\n",
       "    </tr>\n",
       "    <tr>\n",
       "      <th>8</th>\n",
       "      <td>READ WRITE OWN</td>\n",
       "      <td>by Chris Dixon</td>\n",
       "      <td>A technology entrepreneur describes three eras...</td>\n",
       "    </tr>\n",
       "    <tr>\n",
       "      <th>9</th>\n",
       "      <td>THE GRIFT</td>\n",
       "      <td>by Clay Cane</td>\n",
       "      <td>An overview of Black Republicanism from the ti...</td>\n",
       "    </tr>\n",
       "    <tr>\n",
       "      <th>10</th>\n",
       "      <td>THE IN-BETWEEN</td>\n",
       "      <td>by Hadley Vlahos</td>\n",
       "      <td>A hospice nurse shares some of her most impact...</td>\n",
       "    </tr>\n",
       "    <tr>\n",
       "      <th>11</th>\n",
       "      <td>FIND ME THE VOTES</td>\n",
       "      <td>by Michael Isikoff and Daniel Klaidman</td>\n",
       "      <td>An account of former President Trump’s attempt...</td>\n",
       "    </tr>\n",
       "    <tr>\n",
       "      <th>12</th>\n",
       "      <td>LEGACY</td>\n",
       "      <td>by Uché Blackstock</td>\n",
       "      <td>A Black physician details systemic barriers an...</td>\n",
       "    </tr>\n",
       "    <tr>\n",
       "      <th>13</th>\n",
       "      <td>I'M GLAD MY MOM DIED</td>\n",
       "      <td>by Jennette McCurdy</td>\n",
       "      <td>The actress and filmmaker describes her eating...</td>\n",
       "    </tr>\n",
       "    <tr>\n",
       "      <th>14</th>\n",
       "      <td>OUR HIDDEN CONVERSATIONS</td>\n",
       "      <td>by Michele Norris</td>\n",
       "      <td>Stories, essays and photographs exploring race...</td>\n",
       "    </tr>\n",
       "  </tbody>\n",
       "</table>\n",
       "</div>"
      ],
      "text/plain": [
       "                                          Title  \\\n",
       "0                                     THE WAGER   \n",
       "1                                OATH AND HONOR   \n",
       "2                                       OUTLIVE   \n",
       "3                               THE WOMAN IN ME   \n",
       "4         THE KINGDOM, THE POWER, AND THE GLORY   \n",
       "5   FRIENDS, LOVERS, AND THE BIG TERRIBLE THING   \n",
       "6                                       MADNESS   \n",
       "7                                     ELON MUSK   \n",
       "8                                READ WRITE OWN   \n",
       "9                                     THE GRIFT   \n",
       "10                               THE IN-BETWEEN   \n",
       "11                            FIND ME THE VOTES   \n",
       "12                                       LEGACY   \n",
       "13                         I'M GLAD MY MOM DIED   \n",
       "14                     OUR HIDDEN CONVERSATIONS   \n",
       "\n",
       "                                   Authors  \\\n",
       "0                           by David Grann   \n",
       "1                            by Liz Cheney   \n",
       "2         by Peter Attia with Bill Gifford   \n",
       "3                        by Britney Spears   \n",
       "4                           by Tim Alberta   \n",
       "5                         by Matthew Perry   \n",
       "6                        by Antonia Hylton   \n",
       "7                       by Walter Isaacson   \n",
       "8                           by Chris Dixon   \n",
       "9                             by Clay Cane   \n",
       "10                        by Hadley Vlahos   \n",
       "11  by Michael Isikoff and Daniel Klaidman   \n",
       "12                      by Uché Blackstock   \n",
       "13                     by Jennette McCurdy   \n",
       "14                       by Michele Norris   \n",
       "\n",
       "                                          Description  \n",
       "0   The survivors of a shipwrecked British vessel ...  \n",
       "1   The former congresswoman from Wyoming recounts...  \n",
       "2   A look at recent scientific research on aging ...  \n",
       "3   The Grammy Award-winning pop star details her ...  \n",
       "4   The author of “American Carnage” looks at divi...  \n",
       "5   The late actor, known for playing Chandler Bin...  \n",
       "6   A Peabody and Emmy award-winning journalist un...  \n",
       "7   The author of “The Code Breaker” traces Musk’s...  \n",
       "8   A technology entrepreneur describes three eras...  \n",
       "9   An overview of Black Republicanism from the ti...  \n",
       "10  A hospice nurse shares some of her most impact...  \n",
       "11  An account of former President Trump’s attempt...  \n",
       "12  A Black physician details systemic barriers an...  \n",
       "13  The actress and filmmaker describes her eating...  \n",
       "14  Stories, essays and photographs exploring race...  "
      ]
     },
     "execution_count": 32,
     "metadata": {},
     "output_type": "execute_result"
    }
   ],
   "source": [
    "books_seller"
   ]
  },
  {
   "cell_type": "code",
   "execution_count": 45,
   "id": "8a8b8f5b",
   "metadata": {},
   "outputs": [],
   "source": [
    "#-Capitalize the title (lower case + capitalize)\n",
    "\n",
    "for book in books_seller[\"Title\"]:\n",
    "    \n",
    "    book_lower_title= books_seller[\"Title\"].str.lower()\n",
    "    \n",
    "    books_seller[\"Title\"] = book_lower_title.str.capitalize()"
   ]
  },
  {
   "cell_type": "code",
   "execution_count": 46,
   "id": "25cdfda4",
   "metadata": {},
   "outputs": [
    {
     "data": {
      "text/plain": [
       "0                                       The wager\n",
       "1                                  Oath and honor\n",
       "2                                         Outlive\n",
       "3                                 The woman in me\n",
       "4           The kingdom, the power, and the glory\n",
       "5     Friends, lovers, and the big terrible thing\n",
       "6                                         Madness\n",
       "7                                       Elon musk\n",
       "8                                  Read write own\n",
       "9                                       The grift\n",
       "10                                 The in-between\n",
       "11                              Find me the votes\n",
       "12                                         Legacy\n",
       "13                           I'm glad my mom died\n",
       "14                       Our hidden conversations\n",
       "Name: Title, dtype: object"
      ]
     },
     "execution_count": 46,
     "metadata": {},
     "output_type": "execute_result"
    }
   ],
   "source": [
    "books_seller[\"Title\"]"
   ]
  },
  {
   "cell_type": "code",
   "execution_count": 47,
   "id": "ef60672e",
   "metadata": {},
   "outputs": [
    {
     "data": {
      "text/html": [
       "<div>\n",
       "<style scoped>\n",
       "    .dataframe tbody tr th:only-of-type {\n",
       "        vertical-align: middle;\n",
       "    }\n",
       "\n",
       "    .dataframe tbody tr th {\n",
       "        vertical-align: top;\n",
       "    }\n",
       "\n",
       "    .dataframe thead th {\n",
       "        text-align: right;\n",
       "    }\n",
       "</style>\n",
       "<table border=\"1\" class=\"dataframe\">\n",
       "  <thead>\n",
       "    <tr style=\"text-align: right;\">\n",
       "      <th></th>\n",
       "      <th>Title</th>\n",
       "      <th>Authors</th>\n",
       "      <th>Description</th>\n",
       "    </tr>\n",
       "  </thead>\n",
       "  <tbody>\n",
       "    <tr>\n",
       "      <th>0</th>\n",
       "      <td>The wager</td>\n",
       "      <td>by David Grann</td>\n",
       "      <td>The survivors of a shipwrecked British vessel ...</td>\n",
       "    </tr>\n",
       "    <tr>\n",
       "      <th>1</th>\n",
       "      <td>Oath and honor</td>\n",
       "      <td>by Liz Cheney</td>\n",
       "      <td>The former congresswoman from Wyoming recounts...</td>\n",
       "    </tr>\n",
       "    <tr>\n",
       "      <th>2</th>\n",
       "      <td>Outlive</td>\n",
       "      <td>by Peter Attia with Bill Gifford</td>\n",
       "      <td>A look at recent scientific research on aging ...</td>\n",
       "    </tr>\n",
       "    <tr>\n",
       "      <th>3</th>\n",
       "      <td>The woman in me</td>\n",
       "      <td>by Britney Spears</td>\n",
       "      <td>The Grammy Award-winning pop star details her ...</td>\n",
       "    </tr>\n",
       "    <tr>\n",
       "      <th>4</th>\n",
       "      <td>The kingdom, the power, and the glory</td>\n",
       "      <td>by Tim Alberta</td>\n",
       "      <td>The author of “American Carnage” looks at divi...</td>\n",
       "    </tr>\n",
       "    <tr>\n",
       "      <th>5</th>\n",
       "      <td>Friends, lovers, and the big terrible thing</td>\n",
       "      <td>by Matthew Perry</td>\n",
       "      <td>The late actor, known for playing Chandler Bin...</td>\n",
       "    </tr>\n",
       "    <tr>\n",
       "      <th>6</th>\n",
       "      <td>Madness</td>\n",
       "      <td>by Antonia Hylton</td>\n",
       "      <td>A Peabody and Emmy award-winning journalist un...</td>\n",
       "    </tr>\n",
       "    <tr>\n",
       "      <th>7</th>\n",
       "      <td>Elon musk</td>\n",
       "      <td>by Walter Isaacson</td>\n",
       "      <td>The author of “The Code Breaker” traces Musk’s...</td>\n",
       "    </tr>\n",
       "    <tr>\n",
       "      <th>8</th>\n",
       "      <td>Read write own</td>\n",
       "      <td>by Chris Dixon</td>\n",
       "      <td>A technology entrepreneur describes three eras...</td>\n",
       "    </tr>\n",
       "    <tr>\n",
       "      <th>9</th>\n",
       "      <td>The grift</td>\n",
       "      <td>by Clay Cane</td>\n",
       "      <td>An overview of Black Republicanism from the ti...</td>\n",
       "    </tr>\n",
       "    <tr>\n",
       "      <th>10</th>\n",
       "      <td>The in-between</td>\n",
       "      <td>by Hadley Vlahos</td>\n",
       "      <td>A hospice nurse shares some of her most impact...</td>\n",
       "    </tr>\n",
       "    <tr>\n",
       "      <th>11</th>\n",
       "      <td>Find me the votes</td>\n",
       "      <td>by Michael Isikoff and Daniel Klaidman</td>\n",
       "      <td>An account of former President Trump’s attempt...</td>\n",
       "    </tr>\n",
       "    <tr>\n",
       "      <th>12</th>\n",
       "      <td>Legacy</td>\n",
       "      <td>by Uché Blackstock</td>\n",
       "      <td>A Black physician details systemic barriers an...</td>\n",
       "    </tr>\n",
       "    <tr>\n",
       "      <th>13</th>\n",
       "      <td>I'm glad my mom died</td>\n",
       "      <td>by Jennette McCurdy</td>\n",
       "      <td>The actress and filmmaker describes her eating...</td>\n",
       "    </tr>\n",
       "    <tr>\n",
       "      <th>14</th>\n",
       "      <td>Our hidden conversations</td>\n",
       "      <td>by Michele Norris</td>\n",
       "      <td>Stories, essays and photographs exploring race...</td>\n",
       "    </tr>\n",
       "  </tbody>\n",
       "</table>\n",
       "</div>"
      ],
      "text/plain": [
       "                                          Title  \\\n",
       "0                                     The wager   \n",
       "1                                Oath and honor   \n",
       "2                                       Outlive   \n",
       "3                               The woman in me   \n",
       "4         The kingdom, the power, and the glory   \n",
       "5   Friends, lovers, and the big terrible thing   \n",
       "6                                       Madness   \n",
       "7                                     Elon musk   \n",
       "8                                Read write own   \n",
       "9                                     The grift   \n",
       "10                               The in-between   \n",
       "11                            Find me the votes   \n",
       "12                                       Legacy   \n",
       "13                         I'm glad my mom died   \n",
       "14                     Our hidden conversations   \n",
       "\n",
       "                                   Authors  \\\n",
       "0                           by David Grann   \n",
       "1                            by Liz Cheney   \n",
       "2         by Peter Attia with Bill Gifford   \n",
       "3                        by Britney Spears   \n",
       "4                           by Tim Alberta   \n",
       "5                         by Matthew Perry   \n",
       "6                        by Antonia Hylton   \n",
       "7                       by Walter Isaacson   \n",
       "8                           by Chris Dixon   \n",
       "9                             by Clay Cane   \n",
       "10                        by Hadley Vlahos   \n",
       "11  by Michael Isikoff and Daniel Klaidman   \n",
       "12                      by Uché Blackstock   \n",
       "13                     by Jennette McCurdy   \n",
       "14                       by Michele Norris   \n",
       "\n",
       "                                          Description  \n",
       "0   The survivors of a shipwrecked British vessel ...  \n",
       "1   The former congresswoman from Wyoming recounts...  \n",
       "2   A look at recent scientific research on aging ...  \n",
       "3   The Grammy Award-winning pop star details her ...  \n",
       "4   The author of “American Carnage” looks at divi...  \n",
       "5   The late actor, known for playing Chandler Bin...  \n",
       "6   A Peabody and Emmy award-winning journalist un...  \n",
       "7   The author of “The Code Breaker” traces Musk’s...  \n",
       "8   A technology entrepreneur describes three eras...  \n",
       "9   An overview of Black Republicanism from the ti...  \n",
       "10  A hospice nurse shares some of her most impact...  \n",
       "11  An account of former President Trump’s attempt...  \n",
       "12  A Black physician details systemic barriers an...  \n",
       "13  The actress and filmmaker describes her eating...  \n",
       "14  Stories, essays and photographs exploring race...  "
      ]
     },
     "execution_count": 47,
     "metadata": {},
     "output_type": "execute_result"
    }
   ],
   "source": [
    "books_seller"
   ]
  },
  {
   "cell_type": "markdown",
   "id": "169aecfa",
   "metadata": {},
   "source": [
    "### code just for stringm not in a DataFrame\n",
    "\n",
    "for i in books_seller[\"Authors\"]:\n",
    "    \n",
    "    spliting_authors = books_seller[\"Authors\"].str.split(\" \")\n",
    "    removing_by = spliting_authors[1:]\n",
    "    #join_again = \" \".join(removing_by)\n"
   ]
  },
  {
   "cell_type": "code",
   "execution_count": null,
   "id": "0b9fd2c3",
   "metadata": {},
   "outputs": [],
   "source": [
    "# removin the word \"by\""
   ]
  },
  {
   "cell_type": "code",
   "execution_count": 59,
   "id": "2293ecca",
   "metadata": {},
   "outputs": [],
   "source": [
    " books_seller['Authors'] = books_seller['Authors'].apply(lambda x: ' '.join(x.split()[1:]))"
   ]
  },
  {
   "cell_type": "code",
   "execution_count": 60,
   "id": "ef46f27c",
   "metadata": {},
   "outputs": [
    {
     "data": {
      "text/plain": [
       "0                             David Grann\n",
       "1                              Liz Cheney\n",
       "2           Peter Attia with Bill Gifford\n",
       "3                          Britney Spears\n",
       "4                             Tim Alberta\n",
       "5                           Matthew Perry\n",
       "6                          Antonia Hylton\n",
       "7                         Walter Isaacson\n",
       "8                             Chris Dixon\n",
       "9                               Clay Cane\n",
       "10                          Hadley Vlahos\n",
       "11    Michael Isikoff and Daniel Klaidman\n",
       "12                        Uché Blackstock\n",
       "13                       Jennette McCurdy\n",
       "14                         Michele Norris\n",
       "Name: Authors, dtype: object"
      ]
     },
     "execution_count": 60,
     "metadata": {},
     "output_type": "execute_result"
    }
   ],
   "source": [
    " books_seller['Authors']"
   ]
  },
  {
   "cell_type": "code",
   "execution_count": 52,
   "id": "cb4d9607",
   "metadata": {},
   "outputs": [
    {
     "data": {
      "text/plain": [
       "0                                [by, David, Grann]\n",
       "1                                 [by, Liz, Cheney]\n",
       "2           [by, Peter, Attia, with, Bill, Gifford]\n",
       "3                             [by, Britney, Spears]\n",
       "4                                [by, Tim, Alberta]\n",
       "5                              [by, Matthew, Perry]\n",
       "6                             [by, Antonia, Hylton]\n",
       "7                            [by, Walter, Isaacson]\n",
       "8                                [by, Chris, Dixon]\n",
       "9                                  [by, Clay, Cane]\n",
       "10                             [by, Hadley, Vlahos]\n",
       "11    [by, Michael, Isikoff, and, Daniel, Klaidman]\n",
       "12                           [by, Uché, Blackstock]\n",
       "13                          [by, Jennette, McCurdy]\n",
       "14                            [by, Michele, Norris]\n",
       "Name: Authors, dtype: object"
      ]
     },
     "execution_count": 52,
     "metadata": {},
     "output_type": "execute_result"
    }
   ],
   "source": [
    " spliting_authors "
   ]
  },
  {
   "cell_type": "code",
   "execution_count": null,
   "id": "188ffa60",
   "metadata": {},
   "outputs": [],
   "source": []
  },
  {
   "cell_type": "code",
   "execution_count": null,
   "id": "fec6af42",
   "metadata": {},
   "outputs": [],
   "source": []
  },
  {
   "cell_type": "code",
   "execution_count": null,
   "id": "59fc317e",
   "metadata": {},
   "outputs": [],
   "source": []
  },
  {
   "cell_type": "code",
   "execution_count": null,
   "id": "01a90d53",
   "metadata": {},
   "outputs": [],
   "source": []
  },
  {
   "cell_type": "code",
   "execution_count": 42,
   "id": "d1e96705",
   "metadata": {},
   "outputs": [
    {
     "data": {
      "text/plain": [
       "[<p class=\"css-14lubdp\" itemprop=\"description\">The survivors of a shipwrecked British vessel on a secret mission during an imperial war with Spain have different accounts of events.</p>,\n",
       " <p class=\"css-14lubdp\" itemprop=\"description\">The former congresswoman from Wyoming recounts how she helped lead the Select Committee to Investigate the Jan. 6. Attack on the United States Capitol.</p>,\n",
       " <p class=\"css-14lubdp\" itemprop=\"description\">A look at recent scientific research on aging and longevity.</p>,\n",
       " <p class=\"css-14lubdp\" itemprop=\"description\">The Grammy Award-winning pop star details her personal and professional experiences, including the years she spent under a conservatorship overseen by her father.</p>,\n",
       " <p class=\"css-14lubdp\" itemprop=\"description\">The author of “American Carnage” looks at divisions within the American evangelical movement.</p>,\n",
       " <p class=\"css-14lubdp\" itemprop=\"description\">The late actor, known for playing Chandler Bing on “Friends,” shares stories from his childhood and his struggles with sobriety.</p>,\n",
       " <p class=\"css-14lubdp\" itemprop=\"description\">A Peabody and Emmy award-winning journalist unearths the 93-year-old history of a segregated asylum in Maryland.</p>,\n",
       " <p class=\"css-14lubdp\" itemprop=\"description\">The author of “The Code Breaker” traces Musk’s life and summarizes his work on electric vehicles, private space exploration and artificial intelligence.</p>,\n",
       " <p class=\"css-14lubdp\" itemprop=\"description\">A technology entrepreneur describes three eras of the internet and argues in favor of blockchain networks.</p>,\n",
       " <p class=\"css-14lubdp\" itemprop=\"description\">An overview of Black Republicanism from the time of President Lincoln to the present.</p>,\n",
       " <p class=\"css-14lubdp\" itemprop=\"description\">A hospice nurse shares some of her most impactful experiences and questions some of society's beliefs around end-of-life care.</p>,\n",
       " <p class=\"css-14lubdp\" itemprop=\"description\">An account of former President Trump’s attempt to overturn the 2020 election and a Georgia prosecutor’s decision to indict him and his allies.</p>,\n",
       " <p class=\"css-14lubdp\" itemprop=\"description\">A Black physician details systemic barriers and inequities that affect Black patients and doctors.</p>,\n",
       " <p class=\"css-14lubdp\" itemprop=\"description\">The actress and filmmaker describes her eating disorders and difficult relationship with her mother.</p>,\n",
       " <p class=\"css-14lubdp\" itemprop=\"description\">Stories, essays and photographs exploring race and identity in America.</p>]"
      ]
     },
     "execution_count": 42,
     "metadata": {},
     "output_type": "execute_result"
    }
   ],
   "source": [
    "soup.select(\"p.css-14lubdp\")"
   ]
  },
  {
   "cell_type": "code",
   "execution_count": null,
   "id": "05d9b105",
   "metadata": {},
   "outputs": [],
   "source": []
  }
 ],
 "metadata": {
  "kernelspec": {
   "display_name": "Python 3 (ipykernel)",
   "language": "python",
   "name": "python3"
  },
  "language_info": {
   "codemirror_mode": {
    "name": "ipython",
    "version": 3
   },
   "file_extension": ".py",
   "mimetype": "text/x-python",
   "name": "python",
   "nbconvert_exporter": "python",
   "pygments_lexer": "ipython3",
   "version": "3.9.13"
  }
 },
 "nbformat": 4,
 "nbformat_minor": 5
}
